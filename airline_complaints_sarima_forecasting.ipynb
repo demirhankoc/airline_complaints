{
  "metadata": {
    "kernelspec": {
      "language": "python",
      "display_name": "Python 3",
      "name": "python3"
    },
    "language_info": {
      "pygments_lexer": "ipython3",
      "nbconvert_exporter": "python",
      "version": "3.6.4",
      "file_extension": ".py",
      "codemirror_mode": {
        "name": "ipython",
        "version": 3
      },
      "name": "python",
      "mimetype": "text/x-python"
    },
    "kaggle": {
      "accelerator": "none",
      "dataSources": [
        {
          "sourceId": 6563141,
          "sourceType": "datasetVersion",
          "datasetId": 3791937
        }
      ],
      "dockerImageVersionId": 30558,
      "isInternetEnabled": true,
      "language": "python",
      "sourceType": "notebook",
      "isGpuEnabled": false
    },
    "colab": {
      "provenance": [],
      "include_colab_link": true
    }
  },
  "nbformat_minor": 0,
  "nbformat": 4,
  "cells": [
    {
      "cell_type": "markdown",
      "metadata": {
        "id": "view-in-github",
        "colab_type": "text"
      },
      "source": [
        "<a href=\"https://colab.research.google.com/github/demirhankoc/airline_complaints/blob/main/airline_complaints_sarima_forecasting.ipynb\" target=\"_parent\"><img src=\"https://colab.research.google.com/assets/colab-badge.svg\" alt=\"Open In Colab\"/></a>"
      ]
    },
    {
      "cell_type": "markdown",
      "source": [
        "# Background"
      ],
      "metadata": {
        "id": "flfza24HVw2x"
      }
    },
    {
      "cell_type": "markdown",
      "source": [
        "Anyone who travels by air knows that occasional problems are inevitable. Flights can be delayed or cancelled due to weather conditions, mechanical problems, or labor strikes, and baggage can be lost, delayed, damaged, or pilfered. Given that many airlines are now charging for bags, issues with baggage are particularly annoying. Baggage problems can have a serious impact on customer loyalty, and can be costly to the airlines (airlines often have to deliver bags).\n",
        "\\\n",
        "\\\n",
        "Air carriers report flight delays, cancellations, overbookings, late arrivals, baggage complaints, and other operating statistics to the U.S. government, which compiles the data and reports it to the public.\n",
        "![Image](https://storage.googleapis.com/kaggle-datasets-images/3791937/6563141/560fa866709b621b31f2707881f50016/dataset-cover.jpg)"
      ],
      "metadata": {
        "id": "OYJOIdGbVw28"
      }
    },
    {
      "cell_type": "markdown",
      "source": [
        "# Preparing Data"
      ],
      "metadata": {
        "id": "m4lMJWzqVw29"
      }
    },
    {
      "cell_type": "markdown",
      "source": [
        "### Importing libraries"
      ],
      "metadata": {
        "id": "fKrao6T1Vw29"
      }
    },
    {
      "cell_type": "code",
      "source": [
        "import pandas as pd\n",
        "import numpy as np\n",
        "import matplotlib.pyplot as plt\n",
        "import plotly.express as px\n",
        "import plotly.graph_objects as go\n",
        "from plotly.subplots import make_subplots\n",
        "%matplotlib inline\n",
        "\n",
        "# Load specific forecasting tools\n",
        "from statsmodels.tsa.statespace.sarimax import SARIMAX\n",
        "\n",
        "#from statsmodels.graphics.tsaplots import plot_acf,plot_pacf # for determining (p,q) orders\n",
        "from statsmodels.tsa.seasonal import seasonal_decompose, DecomposeResult      # for ETS Plots\n",
        "!pip install pmdarima\n",
        "from pmdarima import auto_arima                              # for determining ARIMA orders\n",
        "\n",
        "# Load specific evaluation tools\n",
        "from sklearn.metrics import mean_squared_error\n",
        "from statsmodels.tools.eval_measures import rmse\n",
        "\n",
        "# Ignore harmless warnings\n",
        "import warnings\n",
        "warnings.filterwarnings(\"ignore\")"
      ],
      "metadata": {
        "_uuid": "8f2839f25d086af736a60e9eeb907d3b93b6e0e5",
        "_cell_guid": "b1076dfc-b9ad-4769-8c92-a6c4dae69d19",
        "execution": {
          "iopub.status.busy": "2023-09-29T14:26:08.416643Z",
          "iopub.execute_input": "2023-09-29T14:26:08.417023Z",
          "iopub.status.idle": "2023-09-29T14:26:20.109593Z",
          "shell.execute_reply.started": "2023-09-29T14:26:08.416991Z",
          "shell.execute_reply": "2023-09-29T14:26:20.108631Z"
        },
        "collapsed": true,
        "jupyter": {
          "outputs_hidden": true
        },
        "trusted": true,
        "id": "Dgv3Ijh7Vw2-"
      },
      "execution_count": null,
      "outputs": []
    },
    {
      "cell_type": "markdown",
      "source": [
        "### Loading the dataset"
      ],
      "metadata": {
        "id": "9Q3kuP2pVw2_"
      }
    },
    {
      "cell_type": "code",
      "source": [
        "df = pd.read_csv('../input/airline-baggage-complaints-time-series-dataset/baggagecomplaints.csv',index_col='Date',parse_dates=True)"
      ],
      "metadata": {
        "execution": {
          "iopub.status.busy": "2023-09-29T14:26:20.112109Z",
          "iopub.execute_input": "2023-09-29T14:26:20.113785Z",
          "iopub.status.idle": "2023-09-29T14:26:20.141621Z",
          "shell.execute_reply.started": "2023-09-29T14:26:20.113733Z",
          "shell.execute_reply": "2023-09-29T14:26:20.140642Z"
        },
        "trusted": true,
        "id": "LrGTN-9VVw2_"
      },
      "execution_count": null,
      "outputs": []
    },
    {
      "cell_type": "code",
      "source": [
        "df"
      ],
      "metadata": {
        "execution": {
          "iopub.status.busy": "2023-09-29T14:26:20.142929Z",
          "iopub.execute_input": "2023-09-29T14:26:20.143443Z",
          "iopub.status.idle": "2023-09-29T14:26:20.159358Z",
          "shell.execute_reply.started": "2023-09-29T14:26:20.143417Z",
          "shell.execute_reply": "2023-09-29T14:26:20.158615Z"
        },
        "trusted": true,
        "id": "yMO4DxY5Vw2_"
      },
      "execution_count": null,
      "outputs": []
    },
    {
      "cell_type": "code",
      "source": [
        "df.info()"
      ],
      "metadata": {
        "execution": {
          "iopub.status.busy": "2023-09-29T14:26:20.161186Z",
          "iopub.execute_input": "2023-09-29T14:26:20.16165Z",
          "iopub.status.idle": "2023-09-29T14:26:20.176815Z",
          "shell.execute_reply.started": "2023-09-29T14:26:20.161617Z",
          "shell.execute_reply": "2023-09-29T14:26:20.175615Z"
        },
        "trusted": true,
        "id": "eWtAKE4OVw2_"
      },
      "execution_count": null,
      "outputs": []
    },
    {
      "cell_type": "code",
      "source": [
        "df['Airline'].value_counts()"
      ],
      "metadata": {
        "execution": {
          "iopub.status.busy": "2023-09-29T14:26:20.178397Z",
          "iopub.execute_input": "2023-09-29T14:26:20.178988Z",
          "iopub.status.idle": "2023-09-29T14:26:20.192708Z",
          "shell.execute_reply.started": "2023-09-29T14:26:20.17895Z",
          "shell.execute_reply": "2023-09-29T14:26:20.191639Z"
        },
        "trusted": true,
        "id": "I8yfUy1mVw3A"
      },
      "execution_count": null,
      "outputs": []
    },
    {
      "cell_type": "markdown",
      "source": [
        "### Feature engineering"
      ],
      "metadata": {
        "id": "-vSdZVKHVw3A"
      }
    },
    {
      "cell_type": "markdown",
      "source": [
        "To adjust for company's size we calculate the rate of baggage complaints"
      ],
      "metadata": {
        "id": "uFUwhXL7Vw3A"
      }
    },
    {
      "cell_type": "code",
      "source": [
        "df['Baggage %'] = 100* df['Baggage']/df['Enplaned']"
      ],
      "metadata": {
        "execution": {
          "iopub.status.busy": "2023-09-29T14:26:20.193896Z",
          "iopub.execute_input": "2023-09-29T14:26:20.19432Z",
          "iopub.status.idle": "2023-09-29T14:26:20.206652Z",
          "shell.execute_reply.started": "2023-09-29T14:26:20.194296Z",
          "shell.execute_reply": "2023-09-29T14:26:20.205685Z"
        },
        "trusted": true,
        "id": "acKCoQX8Vw3A"
      },
      "execution_count": null,
      "outputs": []
    },
    {
      "cell_type": "code",
      "source": [
        "df"
      ],
      "metadata": {
        "execution": {
          "iopub.status.busy": "2023-09-29T14:26:20.207961Z",
          "iopub.execute_input": "2023-09-29T14:26:20.208589Z",
          "iopub.status.idle": "2023-09-29T14:26:20.231303Z",
          "shell.execute_reply.started": "2023-09-29T14:26:20.208529Z",
          "shell.execute_reply": "2023-09-29T14:26:20.230455Z"
        },
        "trusted": true,
        "id": "5byvP4KUVw3B"
      },
      "execution_count": null,
      "outputs": []
    },
    {
      "cell_type": "markdown",
      "source": [
        "### Creating dataframes for each company, setting index frequency and checking datasets"
      ],
      "metadata": {
        "id": "pYqFyU0zVw3B"
      }
    },
    {
      "cell_type": "code",
      "source": [
        "grouped = df.groupby(df.Airline)\n",
        "dfAmerican = grouped.get_group(\"American Eagle\")\n",
        "dfAmerican"
      ],
      "metadata": {
        "execution": {
          "iopub.status.busy": "2023-09-29T14:26:20.232275Z",
          "iopub.execute_input": "2023-09-29T14:26:20.233193Z",
          "iopub.status.idle": "2023-09-29T14:26:20.256322Z",
          "shell.execute_reply.started": "2023-09-29T14:26:20.233163Z",
          "shell.execute_reply": "2023-09-29T14:26:20.255266Z"
        },
        "trusted": true,
        "id": "04k460cmVw3B"
      },
      "execution_count": null,
      "outputs": []
    },
    {
      "cell_type": "code",
      "source": [
        "dfHawaiian = grouped.get_group(\"Hawaiian\")\n",
        "dfHawaiian"
      ],
      "metadata": {
        "execution": {
          "iopub.status.busy": "2023-09-29T14:26:20.258259Z",
          "iopub.execute_input": "2023-09-29T14:26:20.258917Z",
          "iopub.status.idle": "2023-09-29T14:26:20.274312Z",
          "shell.execute_reply.started": "2023-09-29T14:26:20.258888Z",
          "shell.execute_reply": "2023-09-29T14:26:20.273355Z"
        },
        "trusted": true,
        "id": "rcWPurIoVw3B"
      },
      "execution_count": null,
      "outputs": []
    },
    {
      "cell_type": "code",
      "source": [
        "dfUnited = grouped.get_group(\"United\")\n",
        "dfUnited"
      ],
      "metadata": {
        "execution": {
          "iopub.status.busy": "2023-09-29T14:26:20.278066Z",
          "iopub.execute_input": "2023-09-29T14:26:20.278416Z",
          "iopub.status.idle": "2023-09-29T14:26:20.296723Z",
          "shell.execute_reply.started": "2023-09-29T14:26:20.278386Z",
          "shell.execute_reply": "2023-09-29T14:26:20.295647Z"
        },
        "trusted": true,
        "id": "0cmQwefCVw3B"
      },
      "execution_count": null,
      "outputs": []
    },
    {
      "cell_type": "code",
      "source": [
        "dfAmerican.index.freq = 'MS' #Month Start frequency\n",
        "print(len(dfAmerican))\n",
        "print(dfAmerican.head())"
      ],
      "metadata": {
        "execution": {
          "iopub.status.busy": "2023-09-29T14:26:20.298145Z",
          "iopub.execute_input": "2023-09-29T14:26:20.298516Z",
          "iopub.status.idle": "2023-09-29T14:26:20.313388Z",
          "shell.execute_reply.started": "2023-09-29T14:26:20.298488Z",
          "shell.execute_reply": "2023-09-29T14:26:20.31227Z"
        },
        "trusted": true,
        "id": "Wa91e5IfVw3C"
      },
      "execution_count": null,
      "outputs": []
    },
    {
      "cell_type": "code",
      "source": [
        "dfHawaiian.index.freq = 'MS'\n",
        "print(len(dfHawaiian))\n",
        "print(dfHawaiian.head())"
      ],
      "metadata": {
        "execution": {
          "iopub.status.busy": "2023-09-29T14:26:20.314943Z",
          "iopub.execute_input": "2023-09-29T14:26:20.315249Z",
          "iopub.status.idle": "2023-09-29T14:26:20.332999Z",
          "shell.execute_reply.started": "2023-09-29T14:26:20.315224Z",
          "shell.execute_reply": "2023-09-29T14:26:20.331935Z"
        },
        "trusted": true,
        "id": "3taSqMdVVw3C"
      },
      "execution_count": null,
      "outputs": []
    },
    {
      "cell_type": "code",
      "source": [
        "dfUnited.index.freq = 'MS'\n",
        "print(len(dfUnited))\n",
        "print(dfUnited.head())"
      ],
      "metadata": {
        "execution": {
          "iopub.status.busy": "2023-09-29T14:26:20.334545Z",
          "iopub.execute_input": "2023-09-29T14:26:20.335201Z",
          "iopub.status.idle": "2023-09-29T14:26:20.347646Z",
          "shell.execute_reply.started": "2023-09-29T14:26:20.335172Z",
          "shell.execute_reply": "2023-09-29T14:26:20.34647Z"
        },
        "trusted": true,
        "id": "70PTu44KVw3C"
      },
      "execution_count": null,
      "outputs": []
    },
    {
      "cell_type": "markdown",
      "source": [
        "# EDA"
      ],
      "metadata": {
        "id": "eVOWZwcMVw3C"
      }
    },
    {
      "cell_type": "markdown",
      "source": [
        "We start by exploring baggage complaints over time."
      ],
      "metadata": {
        "id": "Fb30i2SIVw3C"
      }
    },
    {
      "cell_type": "code",
      "source": [
        "fig = px.line(df, y=\"Baggage\", color=\"Airline\", color_discrete_sequence=px.colors.qualitative.Pastel)\n",
        "fig.update_layout(plot_bgcolor='white')\n",
        "fig.update_yaxes(\n",
        "    mirror=True,\n",
        "    ticks='outside',\n",
        "    showline=True,\n",
        "    linecolor='black',\n",
        "    gridcolor='lightgrey',\n",
        "    title=''\n",
        ")\n",
        "fig.show()"
      ],
      "metadata": {
        "execution": {
          "iopub.status.busy": "2023-09-29T14:26:20.349244Z",
          "iopub.execute_input": "2023-09-29T14:26:20.349914Z",
          "iopub.status.idle": "2023-09-29T14:26:20.91075Z",
          "shell.execute_reply.started": "2023-09-29T14:26:20.349876Z",
          "shell.execute_reply": "2023-09-29T14:26:20.909745Z"
        },
        "trusted": true,
        "id": "vaWpmj2lVw3C"
      },
      "execution_count": null,
      "outputs": []
    },
    {
      "cell_type": "markdown",
      "source": [
        "United Airlines has the most complaints about mishandled baggage in almost all of the months in the data set; Hawaiian Airlines has the fewest number of complaints in all months. Do we conclude, then, that United Airlines has the “worst record” for mishandled baggage and Hawaiian, the best?"
      ],
      "metadata": {
        "id": "THQRG609Vw3D"
      }
    },
    {
      "cell_type": "code",
      "source": [
        "newframe = df.groupby('Airline').describe()[['Scheduled', 'Enplaned']]\n",
        "newframe = newframe.drop(['count','std','min','25%','50%','75%','max'], axis = 1, level = 1)\n",
        "newframe = newframe.round(decimals=2)\n",
        "newframe"
      ],
      "metadata": {
        "execution": {
          "iopub.status.busy": "2023-09-29T14:26:20.911788Z",
          "iopub.execute_input": "2023-09-29T14:26:20.912288Z",
          "iopub.status.idle": "2023-09-29T14:26:20.971028Z",
          "shell.execute_reply.started": "2023-09-29T14:26:20.91226Z",
          "shell.execute_reply": "2023-09-29T14:26:20.969812Z"
        },
        "trusted": true,
        "id": "_HRcmp7aVw3D"
      },
      "execution_count": null,
      "outputs": []
    },
    {
      "cell_type": "markdown",
      "source": [
        "United Airlines is a much bigger airline, which shows the average number of scheduled flights and enplaned passengers by airline. United handles more than three times the number of passengers than American Eagle on average, and almost eight times more than Hawaiian. Thus, United has more opportunities to mishandle luggage because it handles more luggage – it’s simply a much bigger airline."
      ],
      "metadata": {
        "id": "b4KHi9jLVw3D"
      }
    },
    {
      "cell_type": "markdown",
      "source": [
        "So we compare the records of the three airlines using Baggage %."
      ],
      "metadata": {
        "id": "AI-HIn9xVw3D"
      }
    },
    {
      "cell_type": "code",
      "source": [
        "newframe = df.groupby('Airline').describe()['Baggage %']\n",
        "newframe = newframe.drop(['count','std','min','25%','50%','75%','max'], axis = 1)\n",
        "newframe = newframe.round(decimals=3)\n",
        "newframe"
      ],
      "metadata": {
        "execution": {
          "iopub.status.busy": "2023-09-29T14:26:20.972139Z",
          "iopub.execute_input": "2023-09-29T14:26:20.972415Z",
          "iopub.status.idle": "2023-09-29T14:26:21.027235Z",
          "shell.execute_reply.started": "2023-09-29T14:26:20.972393Z",
          "shell.execute_reply": "2023-09-29T14:26:21.026152Z"
        },
        "trusted": true,
        "id": "Off6nq25Vw3D"
      },
      "execution_count": null,
      "outputs": []
    },
    {
      "cell_type": "markdown",
      "source": [
        "We see that American Eagle has the highest rate of baggage complaints when adjusted for number of enplaned passengers."
      ],
      "metadata": {
        "id": "wS0yMMo0Vw3E"
      }
    },
    {
      "cell_type": "markdown",
      "source": [
        "Plotting the Baggage % on a time series plot allows us to see changes over time."
      ],
      "metadata": {
        "id": "OO0tzuXYVw3E"
      }
    },
    {
      "cell_type": "code",
      "source": [
        "fig = px.line(df, y=\"Baggage %\", color=\"Airline\", color_discrete_sequence=px.colors.qualitative.Pastel)\n",
        "fig.update_layout(plot_bgcolor='white')\n",
        "fig.update_yaxes(\n",
        "    mirror=True,\n",
        "    ticks='outside',\n",
        "    showline=True,\n",
        "    linecolor='black',\n",
        "    gridcolor='lightgrey',\n",
        "    title=''\n",
        ")\n",
        "fig.show()"
      ],
      "metadata": {
        "execution": {
          "iopub.status.busy": "2023-09-29T14:26:21.02878Z",
          "iopub.execute_input": "2023-09-29T14:26:21.02912Z",
          "iopub.status.idle": "2023-09-29T14:26:21.101526Z",
          "shell.execute_reply.started": "2023-09-29T14:26:21.029095Z",
          "shell.execute_reply": "2023-09-29T14:26:21.10038Z"
        },
        "trusted": true,
        "id": "fS2aoJKmVw3E"
      },
      "execution_count": null,
      "outputs": []
    },
    {
      "cell_type": "markdown",
      "source": [
        "So we see that baggage complaint rates from American Eagle and United passengers increased through 2006 and began declining thereafter."
      ],
      "metadata": {
        "id": "SxgQFM2NVw3E"
      }
    },
    {
      "cell_type": "markdown",
      "source": [
        "The time series for Hawaiian passengers is relatively flat compared to American Eagle and United, so it’s difficult to detect a pattern over time."
      ],
      "metadata": {
        "id": "CJQYEDjtVw3E"
      }
    },
    {
      "cell_type": "code",
      "source": [
        "fig = px.line(df, y=\"Baggage %\", color=\"Airline\", facet_col=\"Airline\", color_discrete_sequence=px.colors.qualitative.Pastel)\n",
        "fig.update_layout(plot_bgcolor='white')\n",
        "fig.update_yaxes(\n",
        "    mirror=True,\n",
        "    ticks=None,\n",
        "    showline=True,\n",
        "    linecolor='black',\n",
        "    gridcolor='lightgrey',\n",
        "    title='',\n",
        "    matches=None,\n",
        "    visible=False\n",
        ")\n",
        "fig.show()"
      ],
      "metadata": {
        "execution": {
          "iopub.status.busy": "2023-09-29T14:26:21.10297Z",
          "iopub.execute_input": "2023-09-29T14:26:21.103268Z",
          "iopub.status.idle": "2023-09-29T14:26:21.199315Z",
          "shell.execute_reply.started": "2023-09-29T14:26:21.103238Z",
          "shell.execute_reply": "2023-09-29T14:26:21.198302Z"
        },
        "trusted": true,
        "id": "eyuxfFEUVw3E"
      },
      "execution_count": null,
      "outputs": []
    },
    {
      "cell_type": "markdown",
      "source": [
        "We isolated the data for the Hawaiian flights. Complaint rates for Hawaiian passengers began to drop in the summer of 2008 until fall of 2010, after which the rate of complaints returned to historical levels."
      ],
      "metadata": {
        "id": "3s-sJ8SwVw3F"
      }
    },
    {
      "cell_type": "markdown",
      "source": [
        "The pattern of spikes and dips indicates that changes in the rate of baggage complaints may have a seasonal component."
      ],
      "metadata": {
        "id": "uw5b8WmYVw3F"
      }
    },
    {
      "cell_type": "code",
      "source": [
        "Baggage_mean = df.groupby([\"Airline\",\"Month\"]).mean(['Baggage %'])\n",
        "Baggage_mean = Baggage_mean.reset_index()\n",
        "Baggage_mean"
      ],
      "metadata": {
        "execution": {
          "iopub.status.busy": "2023-09-29T14:26:21.200905Z",
          "iopub.execute_input": "2023-09-29T14:26:21.201305Z",
          "iopub.status.idle": "2023-09-29T14:26:21.227584Z",
          "shell.execute_reply.started": "2023-09-29T14:26:21.201269Z",
          "shell.execute_reply": "2023-09-29T14:26:21.226287Z"
        },
        "trusted": true,
        "id": "g9RyhYZqVw3F"
      },
      "execution_count": null,
      "outputs": []
    },
    {
      "cell_type": "code",
      "source": [
        "fig = px.line(Baggage_mean, x='Month', y='Baggage %', color=\"Airline\", facet_col=\"Airline\", color_discrete_sequence=px.colors.qualitative.Pastel)\n",
        "fig.update_layout(plot_bgcolor='white')\n",
        "fig.update_yaxes(\n",
        "    mirror=True,\n",
        "    ticks=None,\n",
        "    showline=True,\n",
        "    linecolor='black',\n",
        "    gridcolor='lightgrey',\n",
        "    title='',\n",
        "    matches=None,\n",
        "    visible=False\n",
        ")\n",
        "fig.update_xaxes(\n",
        "    dtick = 1\n",
        ")\n",
        "fig.show()"
      ],
      "metadata": {
        "execution": {
          "iopub.status.busy": "2023-09-29T14:26:21.228691Z",
          "iopub.execute_input": "2023-09-29T14:26:21.229065Z",
          "iopub.status.idle": "2023-09-29T14:26:21.318865Z",
          "shell.execute_reply.started": "2023-09-29T14:26:21.229041Z",
          "shell.execute_reply": "2023-09-29T14:26:21.317263Z"
        },
        "trusted": true,
        "id": "QlQI-pp9Vw3F"
      },
      "execution_count": null,
      "outputs": []
    },
    {
      "cell_type": "markdown",
      "source": [
        "We plotted the average Baggage % by month for the three airlines to investigate this further.\n",
        "\\\n",
        "Average rates are highest in December and January and in the summer months, and lowest in the spring and late fall. Interestingly, all three airlines seem to follow the same general pattern."
      ],
      "metadata": {
        "id": "M4kM6FFdVw3G"
      }
    },
    {
      "cell_type": "markdown",
      "source": [
        "### ETS Decomposition"
      ],
      "metadata": {
        "id": "mFWaF3zvVw3G"
      }
    },
    {
      "cell_type": "code",
      "source": [
        "Baggage_mean = df.groupby([\"Date\"]).mean(['Baggage'])\n",
        "Baggage_mean = Baggage_mean.drop(['Month','Year','Scheduled','Cancelled','Enplaned','Baggage %'], axis = 1)\n",
        "Baggage_mean"
      ],
      "metadata": {
        "execution": {
          "iopub.status.busy": "2023-09-29T14:26:21.320332Z",
          "iopub.execute_input": "2023-09-29T14:26:21.320647Z",
          "iopub.status.idle": "2023-09-29T14:26:21.335417Z",
          "shell.execute_reply.started": "2023-09-29T14:26:21.320621Z",
          "shell.execute_reply": "2023-09-29T14:26:21.334626Z"
        },
        "trusted": true,
        "id": "QJcNFdBgVw3G"
      },
      "execution_count": null,
      "outputs": []
    },
    {
      "cell_type": "code",
      "source": [
        "def plot_seasonal_decompose(result:DecomposeResult, dates:pd.Series=None, title:str=\"Seasonal Decomposition\"):\n",
        "    x_values = dates if dates is not None else np.arange(len(result.observed))\n",
        "    cols = px.colors.qualitative.Pastel\n",
        "    return (\n",
        "        make_subplots(\n",
        "            rows=4,\n",
        "            cols=1,\n",
        "            subplot_titles=[\"Observed\", \"Trend\", \"Seasonal\", \"Residuals\"],\n",
        "        )\n",
        "        .add_trace(\n",
        "            go.Scatter(x=x_values, y=result.observed, mode=\"lines\", name='Observed', marker=dict(color=cols[0])),\n",
        "            row=1,\n",
        "            col=1,\n",
        "        )\n",
        "        .add_trace(\n",
        "            go.Scatter(x=x_values, y=result.trend, mode=\"lines\", name='Trend', marker=dict(color=cols[1])),\n",
        "            row=2,\n",
        "            col=1,\n",
        "        )\n",
        "        .add_trace(\n",
        "            go.Scatter(x=x_values, y=result.seasonal, mode=\"lines\", name='Seasonal', marker=dict(color=cols[2])),\n",
        "            row=3,\n",
        "            col=1,\n",
        "        )\n",
        "        .add_trace(\n",
        "            go.Scatter(x=x_values, y=result.resid, mode=\"lines\", name='Residual', marker=dict(color=cols[3])),\n",
        "            row=4,\n",
        "            col=1,\n",
        "        )\n",
        "        .update_layout(\n",
        "            height=900, title=f'<b>{title}</b>', margin={'t':100}, title_x=0.5, showlegend=False\n",
        "        )\n",
        "    )"
      ],
      "metadata": {
        "execution": {
          "iopub.status.busy": "2023-09-29T14:26:21.336468Z",
          "iopub.execute_input": "2023-09-29T14:26:21.337887Z",
          "iopub.status.idle": "2023-09-29T14:26:21.346484Z",
          "shell.execute_reply.started": "2023-09-29T14:26:21.337855Z",
          "shell.execute_reply": "2023-09-29T14:26:21.345652Z"
        },
        "trusted": true,
        "id": "SZ8AU3FgVw3G"
      },
      "execution_count": null,
      "outputs": []
    },
    {
      "cell_type": "code",
      "source": [
        "decomposition = seasonal_decompose(Baggage_mean['Baggage'], model='additive', period=12)\n",
        "fig = plot_seasonal_decompose(decomposition, dates=Baggage_mean.index)\n",
        "\n",
        "fig.update_layout(plot_bgcolor='white')\n",
        "fig.update_yaxes(\n",
        "    mirror=True,\n",
        "    ticks='outside',\n",
        "    showline=True,\n",
        "    linecolor='black',\n",
        "    gridcolor='lightgrey',\n",
        "    title=''\n",
        ")\n",
        "\n",
        "fig.show()"
      ],
      "metadata": {
        "execution": {
          "iopub.status.busy": "2023-09-29T14:26:21.347864Z",
          "iopub.execute_input": "2023-09-29T14:26:21.348393Z",
          "iopub.status.idle": "2023-09-29T14:26:21.414891Z",
          "shell.execute_reply.started": "2023-09-29T14:26:21.348366Z",
          "shell.execute_reply": "2023-09-29T14:26:21.413827Z"
        },
        "trusted": true,
        "id": "6R6U3IK_Vw3H"
      },
      "execution_count": null,
      "outputs": []
    },
    {
      "cell_type": "markdown",
      "source": [
        "There's seasonality considering the average number of lost baggage in all airlines."
      ],
      "metadata": {
        "id": "guSzvdJEVw3H"
      }
    },
    {
      "cell_type": "markdown",
      "source": [
        "# SARIMA Model"
      ],
      "metadata": {
        "id": "FnCujh3gVw3H"
      }
    },
    {
      "cell_type": "markdown",
      "source": [
        "### Obtaining recommended orders"
      ],
      "metadata": {
        "id": "1y50ylf_Vw3H"
      }
    },
    {
      "cell_type": "code",
      "source": [
        "auto_arima(Baggage_mean['Baggage'], seasonal=True, m=12).summary()\n",
        "# m=12 because we have Monthly data"
      ],
      "metadata": {
        "execution": {
          "iopub.status.busy": "2023-09-29T14:26:21.41681Z",
          "iopub.execute_input": "2023-09-29T14:26:21.417346Z",
          "iopub.status.idle": "2023-09-29T14:27:09.625661Z",
          "shell.execute_reply.started": "2023-09-29T14:26:21.417318Z",
          "shell.execute_reply": "2023-09-29T14:27:09.624195Z"
        },
        "trusted": true,
        "id": "IdpIQglNVw3H"
      },
      "execution_count": null,
      "outputs": []
    },
    {
      "cell_type": "markdown",
      "source": [
        "**We might use the ARIMA Order (3, 1, 2) combined with the Seasonal Order (1, 0, [1], 12) as we have the lowest AIC value considering those orders.**"
      ],
      "metadata": {
        "id": "yu-Mx9GgVw3I"
      }
    },
    {
      "cell_type": "markdown",
      "source": [
        "### Splitting the data into train and test sets"
      ],
      "metadata": {
        "id": "fLyWSUD0Vw3I"
      }
    },
    {
      "cell_type": "markdown",
      "source": [
        "**One year (i.e. 12 records) for testing**"
      ],
      "metadata": {
        "id": "3oUDjwK9Vw3I"
      }
    },
    {
      "cell_type": "code",
      "source": [
        "train = Baggage_mean.iloc[:len(Baggage_mean)-12]\n",
        "test = Baggage_mean.iloc[len(Baggage_mean)-12:]"
      ],
      "metadata": {
        "execution": {
          "iopub.status.busy": "2023-09-29T14:27:09.628009Z",
          "iopub.execute_input": "2023-09-29T14:27:09.628959Z",
          "iopub.status.idle": "2023-09-29T14:27:09.641524Z",
          "shell.execute_reply.started": "2023-09-29T14:27:09.628905Z",
          "shell.execute_reply": "2023-09-29T14:27:09.638086Z"
        },
        "trusted": true,
        "id": "oqPx6fBmVw3I"
      },
      "execution_count": null,
      "outputs": []
    },
    {
      "cell_type": "markdown",
      "source": [
        "### Fit a SARIMAX(3, 1, 2)(1, 0, [1], 12) model to the training set"
      ],
      "metadata": {
        "id": "bEiB-XqyVw3I"
      }
    },
    {
      "cell_type": "code",
      "source": [
        "model = SARIMAX(train['Baggage'], order=(3, 1, 2), seasonal_order=(1, 0, [1], 12))\n",
        "results = model.fit()\n",
        "results.summary()"
      ],
      "metadata": {
        "execution": {
          "iopub.status.busy": "2023-09-29T14:27:09.648131Z",
          "iopub.execute_input": "2023-09-29T14:27:09.650228Z",
          "iopub.status.idle": "2023-09-29T14:27:11.05081Z",
          "shell.execute_reply.started": "2023-09-29T14:27:09.650179Z",
          "shell.execute_reply": "2023-09-29T14:27:11.049421Z"
        },
        "trusted": true,
        "id": "h6DQ5G7fVw3I"
      },
      "execution_count": null,
      "outputs": []
    },
    {
      "cell_type": "markdown",
      "source": [
        "### Obtaining predicted values"
      ],
      "metadata": {
        "id": "O6nVIFHYVw3J"
      }
    },
    {
      "cell_type": "code",
      "source": [
        "start = len(train)\n",
        "end = len(train) + len(test) - 1"
      ],
      "metadata": {
        "execution": {
          "iopub.status.busy": "2023-09-29T14:27:11.053021Z",
          "iopub.execute_input": "2023-09-29T14:27:11.054757Z",
          "iopub.status.idle": "2023-09-29T14:27:11.064457Z",
          "shell.execute_reply.started": "2023-09-29T14:27:11.054696Z",
          "shell.execute_reply": "2023-09-29T14:27:11.06303Z"
        },
        "trusted": true,
        "id": "N8NpLYtdVw3J"
      },
      "execution_count": null,
      "outputs": []
    },
    {
      "cell_type": "code",
      "source": [
        "predictions = results.predict(start, end, typ='levels').rename('SARIMA Test Predictions')"
      ],
      "metadata": {
        "execution": {
          "iopub.status.busy": "2023-09-29T14:27:11.076963Z",
          "iopub.execute_input": "2023-09-29T14:27:11.078286Z",
          "iopub.status.idle": "2023-09-29T14:27:11.098112Z",
          "shell.execute_reply.started": "2023-09-29T14:27:11.078215Z",
          "shell.execute_reply": "2023-09-29T14:27:11.096914Z"
        },
        "trusted": true,
        "id": "R-RxsyrGVw3J"
      },
      "execution_count": null,
      "outputs": []
    },
    {
      "cell_type": "markdown",
      "source": [
        "### Plotting Predictions X Known Values"
      ],
      "metadata": {
        "id": "pbG5YzbCVw3J"
      }
    },
    {
      "cell_type": "code",
      "source": [
        "cols = px.colors.qualitative.Pastel\n",
        "fig = go.Figure()\n",
        "fig.add_trace(go.Scatter(y=test['Baggage'],\n",
        "                    mode='lines',\n",
        "                    name='Real Values',\n",
        "                    marker=dict(color=cols[0])\n",
        "                        ))\n",
        "fig.add_trace(go.Scatter(y=predictions,\n",
        "                    mode='lines',\n",
        "                    name='SARIMA Test Predictions',\n",
        "                    marker=dict(color=cols[1])\n",
        "                        ))\n",
        "fig.update_layout(plot_bgcolor='white')\n",
        "fig.update_yaxes(\n",
        "    mirror=True,\n",
        "    ticks='outside',\n",
        "    showline=True,\n",
        "    linecolor='black',\n",
        "    gridcolor='lightgrey',\n",
        "    title=''\n",
        ")\n",
        "fig.update_xaxes(\n",
        "    dtick = 1\n",
        ")\n",
        "fig.show()"
      ],
      "metadata": {
        "execution": {
          "iopub.status.busy": "2023-09-29T14:27:11.099471Z",
          "iopub.execute_input": "2023-09-29T14:27:11.100182Z",
          "iopub.status.idle": "2023-09-29T14:27:11.119243Z",
          "shell.execute_reply.started": "2023-09-29T14:27:11.100152Z",
          "shell.execute_reply": "2023-09-29T14:27:11.118507Z"
        },
        "trusted": true,
        "id": "6jJwFcxwVw3J"
      },
      "execution_count": null,
      "outputs": []
    },
    {
      "cell_type": "markdown",
      "source": [
        "### Evaluating the Model using RMSE"
      ],
      "metadata": {
        "id": "whu2J1hfVw3K"
      }
    },
    {
      "cell_type": "code",
      "source": [
        "error = rmse(test['Baggage'], predictions)\n",
        "print(f'RMSE Error: {error}')"
      ],
      "metadata": {
        "execution": {
          "iopub.status.busy": "2023-09-29T14:27:11.120238Z",
          "iopub.execute_input": "2023-09-29T14:27:11.121431Z",
          "iopub.status.idle": "2023-09-29T14:27:11.130642Z",
          "shell.execute_reply.started": "2023-09-29T14:27:11.121399Z",
          "shell.execute_reply": "2023-09-29T14:27:11.129617Z"
        },
        "trusted": true,
        "id": "PamdNJQbVw3K"
      },
      "execution_count": null,
      "outputs": []
    },
    {
      "cell_type": "code",
      "source": [
        "Baggage_mean.describe()"
      ],
      "metadata": {
        "execution": {
          "iopub.status.busy": "2023-09-29T14:27:11.132343Z",
          "iopub.execute_input": "2023-09-29T14:27:11.133056Z",
          "iopub.status.idle": "2023-09-29T14:27:11.15085Z",
          "shell.execute_reply.started": "2023-09-29T14:27:11.133027Z",
          "shell.execute_reply": "2023-09-29T14:27:11.149902Z"
        },
        "trusted": true,
        "id": "xKSU0WZ0Vw3K"
      },
      "execution_count": null,
      "outputs": []
    },
    {
      "cell_type": "markdown",
      "source": [
        "Comparision with the Standard Deviation and Mean shows us that the RMSE Error is insignificant."
      ],
      "metadata": {
        "id": "VqoNY0i7Vw3K"
      }
    },
    {
      "cell_type": "markdown",
      "source": [
        "### Retraining the model on the full data and forecasting one year into the future"
      ],
      "metadata": {
        "id": "dl35LyQsVw3K"
      }
    },
    {
      "cell_type": "code",
      "source": [
        "model = SARIMAX(Baggage_mean['Baggage'], order=(3, 1, 2), seasonal_order=(1, 0, [1], 12))\n",
        "results = model.fit()\n",
        "forecast = results.predict(start=len(Baggage_mean), end=len(Baggage_mean)+11, type='levels').rename('SARIMA Forecast')"
      ],
      "metadata": {
        "execution": {
          "iopub.status.busy": "2023-09-29T14:27:11.152243Z",
          "iopub.execute_input": "2023-09-29T14:27:11.152681Z",
          "iopub.status.idle": "2023-09-29T14:27:12.639107Z",
          "shell.execute_reply.started": "2023-09-29T14:27:11.152646Z",
          "shell.execute_reply": "2023-09-29T14:27:12.63767Z"
        },
        "collapsed": true,
        "jupyter": {
          "outputs_hidden": true
        },
        "trusted": true,
        "id": "s83BQZsJVw3K"
      },
      "execution_count": null,
      "outputs": []
    },
    {
      "cell_type": "markdown",
      "source": [
        "### Plotting the forecasted values alongside the original data"
      ],
      "metadata": {
        "id": "R_UUz0L0Vw3L"
      }
    },
    {
      "cell_type": "code",
      "source": [
        "cols = px.colors.qualitative.Pastel\n",
        "fig = go.Figure()\n",
        "fig.add_trace(go.Scatter(x=Baggage_mean.index, y=Baggage_mean['Baggage'],\n",
        "                    mode='lines',\n",
        "                    name='Real Values',\n",
        "                    marker=dict(color=cols[0])\n",
        "                        ))\n",
        "fig.add_trace(go.Scatter(x=forecast.index, y=forecast,\n",
        "                    mode='lines',\n",
        "                    name='SARIMA Test Predictions',\n",
        "                    marker=dict(color=cols[1])\n",
        "                        ))\n",
        "fig.update_layout(plot_bgcolor='white')\n",
        "fig.update_yaxes(\n",
        "    mirror=True,\n",
        "    ticks='outside',\n",
        "    showline=True,\n",
        "    linecolor='black',\n",
        "    gridcolor='lightgrey',\n",
        "    title=''\n",
        ")\n",
        "\n",
        "fig.show()"
      ],
      "metadata": {
        "execution": {
          "iopub.status.busy": "2023-09-29T14:27:12.641044Z",
          "iopub.execute_input": "2023-09-29T14:27:12.64244Z",
          "iopub.status.idle": "2023-09-29T14:27:12.684245Z",
          "shell.execute_reply.started": "2023-09-29T14:27:12.642367Z",
          "shell.execute_reply": "2023-09-29T14:27:12.682905Z"
        },
        "trusted": true,
        "id": "JqvdHRlTVw3L"
      },
      "execution_count": null,
      "outputs": []
    },
    {
      "cell_type": "code",
      "source": [
        "forecast"
      ],
      "metadata": {
        "execution": {
          "iopub.status.busy": "2023-09-29T14:27:12.686072Z",
          "iopub.execute_input": "2023-09-29T14:27:12.686837Z",
          "iopub.status.idle": "2023-09-29T14:27:12.699911Z",
          "shell.execute_reply.started": "2023-09-29T14:27:12.686788Z",
          "shell.execute_reply": "2023-09-29T14:27:12.698516Z"
        },
        "trusted": true,
        "id": "gehEQ4YWVw3L"
      },
      "execution_count": null,
      "outputs": []
    },
    {
      "cell_type": "markdown",
      "source": [
        "### Zooming In - 2009 to 2011 and One-Year Predictions"
      ],
      "metadata": {
        "id": "skPb0L8TVw3L"
      }
    },
    {
      "cell_type": "code",
      "source": [
        "cols = px.colors.qualitative.Pastel\n",
        "fig = go.Figure()\n",
        "fig.add_trace(go.Scatter(x=Baggage_mean.index[-48:], y=Baggage_mean['Baggage'][-48:],\n",
        "                    mode='lines',\n",
        "                    name='Real Values',\n",
        "                    marker=dict(color=cols[0])\n",
        "                        ))\n",
        "fig.add_trace(go.Scatter(x=forecast.index, y=forecast,\n",
        "                    mode='lines',\n",
        "                    name='SARIMA Test Predictions',\n",
        "                    marker=dict(color=cols[1])\n",
        "                        ))\n",
        "fig.update_layout(plot_bgcolor='white')\n",
        "fig.update_yaxes(\n",
        "    mirror=True,\n",
        "    ticks='outside',\n",
        "    showline=True,\n",
        "    linecolor='black',\n",
        "    gridcolor='lightgrey',\n",
        "    title=''\n",
        ")\n",
        "\n",
        "fig.show()"
      ],
      "metadata": {
        "execution": {
          "iopub.status.busy": "2023-09-29T14:27:12.702895Z",
          "iopub.execute_input": "2023-09-29T14:27:12.703934Z",
          "iopub.status.idle": "2023-09-29T14:27:12.734795Z",
          "shell.execute_reply.started": "2023-09-29T14:27:12.703879Z",
          "shell.execute_reply": "2023-09-29T14:27:12.734067Z"
        },
        "trusted": true,
        "id": "aB7es9mEVw3L"
      },
      "execution_count": null,
      "outputs": []
    },
    {
      "cell_type": "markdown",
      "source": [
        "# Conclusions"
      ],
      "metadata": {
        "id": "ZiK_K_c0Vw3L"
      }
    },
    {
      "cell_type": "markdown",
      "source": [
        "* United Airlines is a much bigger airline, which shows the average number of scheduled flights and enplaned passengers by airline. United handles more than three times the number of passengers than American Eagle on average, and almost eight times more than Hawaiian. Thus, United has more opportunities to mishandle luggage because it handles more luggage – it’s simply a much bigger airline.\n",
        "* Complaint rates for Hawaiian passengers began to drop in the summer of 2008 until fall of 2010, after which the rate of complaints returned to historical levels.\n",
        "* Average rates are highest in December and January and in the summer months, and lowest in the spring and late fall. Interestingly, all three airlines seem to follow the same general pattern.\n",
        "* The data set provided did not have information on flight destinations, so we are not able to investigate whether destination is related to baggage issues.\n",
        "* To provide a fair comparison of performance across airlines, it’s best to standardize for differences in volume. It is also important to pay close attention to units of measurement.\n",
        "* American Eagle has the highest rate of baggage complaints when adjusted for number of enplaned passengers.\n",
        "* Baggage complaint rates from American Eagle and United passengers increased through 2006 and began declining thereafter.\n",
        "* Managers at American Eagle should note the relatively high rate of baggage complaints and consider costs and benefits of improvements.\n",
        "* All three airlines should anticipate high rates of baggage complaints in January, February and the summer months and should plan accordingly.\n",
        "* If we are interested in studying baggage complaints for different destinations, additional data are required.\n"
      ],
      "metadata": {
        "id": "AKBKQpd5Vw3M"
      }
    }
  ]
}